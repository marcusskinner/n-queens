{
 "cells": [
  {
   "cell_type": "markdown",
   "metadata": {},
   "source": [
    "<h1>The n-queens Problem</h1>\n",
    "\n",
    "The classic n-queens problem highlights the importance of an efficient algorithm that scales well for large problem spaces. I began by implementing a backtracking algorithm, but I soon realized it did not scale well for any number of queens above 16. So, I moved to implementing a random-restart hill climbing local search algorithm. The algorithm works as follows:\n",
    "\n",
    "1. Place n-queeens randomly on an nxn board\n",
    "2. Choose the queen most threatened by all other queens\n",
    "3. Move that queen to the least threatened space on the board\n",
    "4. Repeat until no threatened queens\n",
    "5. If we come to a plateau (that is, we don't find a solution in x number of moves), reset the board and try again.\n",
    "\n",
    "<h2>Analysis</h2>\n",
    "If the algorithm does not find a solution within x number of moves and y number of restarts, then we come to no solution. In experimentation, this never happened, so the tradeoff for an efficient over a complete algorithm is well warranted. Below are the average run times (of 100 trials) for n number of queens on an n x n map for each algorithm.\n",
    "\n",
    "<table>\n",
    "    <tr>\n",
    "        <th>n</th>\n",
    "        <th>depth-first search</th>\n",
    "        <th>random-restart</th>\n",
    "        <th>random-restart accuracy</th>\n",
    "    </tr>\n",
    "    <tr>\n",
    "        <td>8</td>\n",
    "        <td>1.503s</td>\n",
    "        <td>0.0024s</td>\n",
    "        <td>100%</td>\n",
    "    </tr>\n",
    "    <tr>\n",
    "        <td>16</td>\n",
    "        <td>n/a</td>\n",
    "        <td>0.0053s</td>\n",
    "        <td>100%</td>\n",
    "    </tr>\n",
    "    <tr>\n",
    "        <td>32</td>\n",
    "        <td>n/a</td>\n",
    "        <td>0.0153s</td>\n",
    "        <td>100%</td>\n",
    "    </tr>\n",
    "    <tr>\n",
    "        <td>64</td>\n",
    "        <td>n/a</td>\n",
    "        <td>0.0645s</td>\n",
    "        <td>100%</td>\n",
    "    </tr>\n",
    "    <tr>\n",
    "        <td>128</td>\n",
    "        <td>n/a</td>\n",
    "        <td>0.3419s</td>\n",
    "        <td>100%</td>\n",
    "    </tr>\n",
    "    <tr>\n",
    "        <td>256</td>\n",
    "        <td>n/a</td>\n",
    "        <td>2.2707s</td>\n",
    "        <td>100%</td>\n",
    "    </tr>\n",
    "    <tr>\n",
    "        <td>512</td>\n",
    "        <td>n/a</td>\n",
    "        <td>13.1639</td>\n",
    "        <td>100%</td>\n",
    "    </tr>\n",
    "    <tr>\n",
    "        <td>1024</td>\n",
    "        <td>n/a</td>\n",
    "        <td>133.2342s</td>\n",
    "        <td>100%</td>\n",
    "    </tr>\n",
    "</table>"
   ]
  },
  {
   "cell_type": "markdown",
   "metadata": {},
   "source": [
    "<h2>Demo</h2>"
   ]
  },
  {
   "cell_type": "code",
   "execution_count": 1,
   "metadata": {},
   "outputs": [
    {
     "name": "stdout",
     "output_type": "stream",
     "text": [
      "Here's what we found:\n",
      "...Q....\n",
      ".....Q..\n",
      ".......Q\n",
      "..Q.....\n",
      "Q.......\n",
      "......Q.\n",
      "....Q...\n",
      ".Q......\n"
     ]
    }
   ],
   "source": [
    "%run n_queens.py 8"
   ]
  },
  {
   "cell_type": "code",
   "execution_count": 2,
   "metadata": {},
   "outputs": [
    {
     "name": "stdout",
     "output_type": "stream",
     "text": [
      "Here's what we found:\n",
      ".............Q..\n",
      ".......Q........\n",
      ".....Q..........\n",
      "...........Q....\n",
      "Q...............\n",
      "....Q...........\n",
      "..........Q.....\n",
      "........Q.......\n",
      "..Q.............\n",
      "..............Q.\n",
      "............Q...\n",
      ".Q..............\n",
      ".........Q......\n",
      "......Q.........\n",
      "...Q............\n",
      "...............Q\n"
     ]
    }
   ],
   "source": [
    "%run n_queens.py 16"
   ]
  },
  {
   "cell_type": "code",
   "execution_count": 4,
   "metadata": {},
   "outputs": [
    {
     "name": "stdout",
     "output_type": "stream",
     "text": [
      "Here's what we found:\n",
      "..Q...............................................\n",
      ".....Q............................................\n",
      ".........................................Q........\n",
      ".................................Q................\n",
      ".........Q........................................\n",
      "..........................Q.......................\n",
      "...................Q..............................\n",
      "..........................................Q.......\n",
      "................................Q.................\n",
      "...............................................Q..\n",
      "Q.................................................\n",
      ".......Q..........................................\n",
      ".......................................Q..........\n",
      ".............Q....................................\n",
      "........................................Q.........\n",
      "......Q...........................................\n",
      "...........Q......................................\n",
      "..................Q...............................\n",
      "...........................Q......................\n",
      "................................................Q.\n",
      "......................................Q...........\n",
      "........Q.........................................\n",
      "................Q.................................\n",
      "..................................Q...............\n",
      "..............................................Q...\n",
      "..............Q...................................\n",
      "....Q.............................................\n",
      ".........................Q........................\n",
      "...................................Q..............\n",
      "...Q..............................................\n",
      "....................................Q.............\n",
      ".................Q................................\n",
      ".............................Q....................\n",
      "...........................................Q......\n",
      ".....................................Q............\n",
      ".................................................Q\n",
      "........................Q.........................\n",
      ".............................................Q....\n",
      "...............................Q..................\n",
      ".......................Q..........................\n",
      "...............Q..................................\n",
      ".Q................................................\n",
      "......................Q...........................\n",
      "..........Q.......................................\n",
      ".....................Q............................\n",
      "............................................Q.....\n",
      "............................Q.....................\n",
      "............Q.....................................\n",
      "....................Q.............................\n",
      "..............................Q...................\n"
     ]
    }
   ],
   "source": [
    "%run n_queens.py 50"
   ]
  }
 ],
 "metadata": {
  "kernelspec": {
   "display_name": "Python 3",
   "language": "python",
   "name": "python3"
  },
  "language_info": {
   "codemirror_mode": {
    "name": "ipython",
    "version": 3
   },
   "file_extension": ".py",
   "mimetype": "text/x-python",
   "name": "python",
   "nbconvert_exporter": "python",
   "pygments_lexer": "ipython3",
   "version": "3.8.3"
  }
 },
 "nbformat": 4,
 "nbformat_minor": 4
}
